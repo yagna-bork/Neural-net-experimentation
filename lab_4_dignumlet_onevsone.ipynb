{
 "cells": [
  {
   "cell_type": "markdown",
   "metadata": {},
   "source": [
    "# Lab 4: Digital Number and Letter Recognition (One vs One) Using Neural Networks"
   ]
  },
  {
   "cell_type": "markdown",
   "metadata": {},
   "source": [
    "- Coursework Admin: Junru Lu\n",
    "- Office: CS2.18\n",
    "- Email: junru.lu@warwick.ac.uk\n"
   ]
  },
  {
   "cell_type": "markdown",
   "metadata": {},
   "source": [
    "## Aim\n",
    "The aim of this coursework is to explore the classification of digital numbers and letters using Perceptrons on linearly separable datasets.\n",
    "\n",
    "## Programming Language\n",
    "You are encouraged to use Python (NumPy) and its open source neural computing libraries (Scikit-Learn and PyTorch) for this assignment. (c.f. Lectures on Weeks 3a, 4a, 5a).\n",
    "\n",
    "**NB**: For students who have no experience with Python but would like to use Mathematica (or MATLAB) for this assignment, please contact your module organiser (Dr Weiren Yu, Weiren.Yu@Warwick.ac.uk) in the first instance for a detailed discussion. \n",
    "\n",
    "## Marking Scheme\n",
    "**NB**: The mark allocations for students who use Python and Mathematica (or MATLAB) are slightly different:\n",
    "\n",
    "### _For Python Students_\n",
    "\n",
    "For all the tasks, do not remove the existing code in your Jupyter notebook. You are required to fill in all the missing codes (remarked as \"Fill in the codes...\" or \"Develop the codes...\") . Your final submission is a runnable Jupyter notebook (.ipynb). Below are the mark allocations:\n",
    "\n",
    "- **Digital Number Recognition (70%)**\n",
    "    - **Subtask 1 (40%)** - Using pure Numpy and \"one vs. one\" trick, build a neural net, and depict Precision, Recall, F1 Score curves.\n",
    "    - **Subtask 2 (5%)** - Using Scikit-Learn, build a neural net.\n",
    "    - **Subtask 3 (25%)** - Using PyTorch, build a neural net \n",
    "    \n",
    "- **Digital Letter Recognition (25%)**\n",
    "    - **Subtask 4 (25%)** consists of two parts: \n",
    "        - (10%) Create digital alphabet data (with capital letters)\n",
    "        - (15%) Choose one of the methods from Subtasks 1-3 to build a neural net for digital alphabet classification, run the neural net, and depict Precision, Recall, F1 Score curves.\n",
    "        **NB:** If choosing pure Numpy, you can maximally get full marks (15%). If choosing Scikit-Learn (resp. PyTorch), you can maximally get 6% (resp. 12%) marks only.\n",
    "        \n",
    "- **Coding Style (5%)** – Follow PEP8 Guidelines\n",
    "\n",
    "\n",
    "### _For Mathematica (or MATLAB) Students_\n",
    "\n",
    "For all the tasks, you can either follow the existing Python structure in this Jupyter notebook to implement Mathematica (or MATLAB) code, or develop your own code structure for neural net training. Your final submission is a runnable script file (.nb or .m).\n",
    "Below are the mark allocations:\n",
    "\n",
    "\n",
    "- **Digital Number Recognition (70%)**\n",
    "    - Read Section 1 and understand how digital number data are created using Python. Using Mathematica (or MATLAB), **create your digital number data, including your training set and test set (20%); draw digtial numbers (10%)**.\n",
    "    - Using Mathematica (or MATLAB), complete **Subtask 1 (40%)** - Build a neural net based on the \"one vs. one\" trick, run the neural net, and depict Precision, Recall, F1 Score curves. \n",
    "    \n",
    "- **Digital Letter Recognition (25%)**\n",
    "    - Using Mathematica (or MATLAB), complete **Subtask 4 (25%)**, consisting of two parts: \n",
    "        - (10%) Create digital alphabet data (with capital letters)\n",
    "        - (15%) Build a neural net via \"one vs. one\" trick for digital alphabet classification, run the neural net, and depict Precision, Recall, F1 Score curves.\n",
    "        \n",
    "- **Coding Style (5%)** – Follow Wolfram (or MATLAB) Programming Practice\n",
    "\n",
    "\n",
    "\n",
    "## Submission\n",
    "\n",
    "- Before submitting your assignment, make sure that your submission file is runnable.\n",
    "- **Submission Deadline: 12:00 (at noon), 16th March, via Tabular.**\n",
    "- **Submission Format:** \n",
    "    - **For Python Students:** a runnable jupyter notebook, named as CW_YourIDs_YourName.ipynb, e.g., CW_u1983235_JunruLu.ipynb.\n",
    "    - **For Mathematica (or MATLAB) Students:** a runnable script, named as CW_YourIDs_YourName.m (or .nb), e.g., CW_u1983235_JunruLu.nb (or .m).\n",
    "\n",
    "## Getting Started"
   ]
  },
  {
   "cell_type": "code",
   "execution_count": 198,
   "metadata": {},
   "outputs": [],
   "source": [
    "import numpy as np\n",
    "import requests\n",
    "from sklearn.model_selection import train_test_split\n",
    "from IPython.display import Image\n",
    "prefix = 'https://raw.githubusercontent.com/LuJunru/CS331-Neural-Computing-Tutorials/master/Week6/'\n",
    "pics = [\"digit_reco_10_digits.png\", \"digit_reco_template.png\", \"digit_reco_26_letters.png\"]\n",
    "pic_links = [prefix + pic for pic in pics]\n",
    "import matplotlib.pyplot as plt\n",
    "\n",
    "import warnings\n",
    "warnings.simplefilter(\"ignore\")\n",
    "\n",
    "%matplotlib inline"
   ]
  },
  {
   "cell_type": "code",
   "execution_count": 199,
   "metadata": {},
   "outputs": [
    {
     "data": {
      "text/html": [
       "<img src=\"https://raw.githubusercontent.com/LuJunru/CS331-Neural-Computing-Tutorials/master/Week6/digit_reco_10_digits.png\"/>"
      ],
      "text/plain": [
       "<IPython.core.display.Image object>"
      ]
     },
     "execution_count": 199,
     "metadata": {},
     "output_type": "execute_result"
    }
   ],
   "source": [
    "Image(url=pic_links[0]) #Q: is url= ok?"
   ]
  },
  {
   "cell_type": "code",
   "execution_count": 200,
   "metadata": {},
   "outputs": [
    {
     "data": {
      "text/html": [
       "<img src=\"https://raw.githubusercontent.com/LuJunru/CS331-Neural-Computing-Tutorials/master/Week6/digit_reco_template.png\" width=\"60\"/>"
      ],
      "text/plain": [
       "<IPython.core.display.Image object>"
      ]
     },
     "execution_count": 200,
     "metadata": {},
     "output_type": "execute_result"
    }
   ],
   "source": [
    "Image(url=pic_links[1], width=60)"
   ]
  },
  {
   "cell_type": "markdown",
   "metadata": {},
   "source": [
    "## 1. Create Digital Number Data\n",
    "- Digital numbers differ from handwritten numbers in that they only have several fixed patterns. According to above pictures, only 7 line segments, named features, suffice to describe a digital number. The feature pattern is defined below."
   ]
  },
  {
   "cell_type": "code",
   "execution_count": 201,
   "metadata": {},
   "outputs": [],
   "source": [
    "patterns = {0: [1, 1, 1, 0, 1, 1, 1],\n",
    "            1: [0, 1, 0, 0, 1, 0, 0],\n",
    "            2: [1, 0, 1, 1, 1, 0, 1],\n",
    "            3: [1, 0, 1, 1, 0, 1, 1], \n",
    "            4: [0, 1, 1, 1, 0, 1, 0],\n",
    "            5: [1, 1, 0, 1, 0, 1, 1],\n",
    "            6: [1, 1, 0, 1, 1, 1, 1],\n",
    "            7: [1, 1, 1, 0, 0, 1, 0],\n",
    "            8: [1, 1, 1, 1, 1, 1, 1],\n",
    "            9: [1, 1, 1, 1, 0, 1, 1]}"
   ]
  },
  {
   "cell_type": "code",
   "execution_count": 202,
   "metadata": {},
   "outputs": [
    {
     "data": {
      "text/plain": [
       "array([6, 3, 7, 4, 6, 9, 2, 6, 7, 4])"
      ]
     },
     "execution_count": 202,
     "metadata": {},
     "output_type": "execute_result"
    }
   ],
   "source": [
    "# fixed data with given random seed\n",
    "# Otherwise try: np.random.randint(0, 10, size=(500))\n",
    "# Do not change this seed when doing the course work\n",
    "\n",
    "rng = np.random.RandomState(42)\n",
    "dis = rng.randint(0, 10, size=(1024))\n",
    "dis[:10]"
   ]
  },
  {
   "cell_type": "code",
   "execution_count": 203,
   "metadata": {},
   "outputs": [
    {
     "data": {
      "text/plain": [
       "<BarContainer object of 10 artists>"
      ]
     },
     "execution_count": 203,
     "metadata": {},
     "output_type": "execute_result"
    },
    {
     "data": {
      "image/png": "[encoded data removed]",
      "text/plain": [
       "<Figure size 432x288 with 1 Axes>"
      ]
     },
     "metadata": {
      "needs_background": "light"
     },
     "output_type": "display_data"
    }
   ],
   "source": [
    "# 1024 samples are randomly generated\n",
    "# Distribution of every number shows this data is balanced\n",
    "\n",
    "sample_counts = [len(dis[dis == i]) for i in range(10)]\n",
    "plt.bar(range(10), sample_counts)"
   ]
  },
  {
   "cell_type": "code",
   "execution_count": 204,
   "metadata": {},
   "outputs": [
    {
     "data": {
      "text/plain": [
       "array([[1, 1, 0, 1, 1, 1, 1],\n",
       "       [1, 0, 1, 1, 0, 1, 1],\n",
       "       [1, 1, 1, 0, 0, 1, 0],\n",
       "       [0, 1, 1, 1, 0, 1, 0],\n",
       "       [1, 1, 0, 1, 1, 1, 1]])"
      ]
     },
     "execution_count": 204,
     "metadata": {},
     "output_type": "execute_result"
    }
   ],
   "source": [
    "data = np.array([patterns[v] for v in dis])\n",
    "data[:5]"
   ]
  },
  {
   "cell_type": "code",
   "execution_count": 205,
   "metadata": {},
   "outputs": [
    {
     "name": "stdout",
     "output_type": "stream",
     "text": [
      "[6 3 7 4 6 9 2 6 7 4 3 7 7 2 5 4 1 7 5 1 4 0 9 5 8 0 9 2 6 3 8 2 4 2 6 4 8\n",
      " 6 1 3 8 1 9 8 9]\n"
     ]
    },
    {
     "data": {
      "image/png": "[encoded data removed]",
      "text/plain": [
       "<Figure size 1440x324 with 45 Axes>"
      ]
     },
     "metadata": {},
     "output_type": "display_data"
    }
   ],
   "source": [
    "# Functions to draw pictures of given samples.\n",
    "\n",
    "def DrawDigitalNumber(ax, sample):\n",
    "    \"\"\"\n",
    "    draw one digital numebr on given axes\n",
    "    \"\"\"\n",
    "    ax.set_xticks([])\n",
    "    ax.set_yticks([])\n",
    "    ax.set_xlim([-0.1, 1.1])\n",
    "    ax.set_ylim([-0.1, 1.6])\n",
    "    for i, feature in enumerate(sample):\n",
    "        if i == 0 and feature:\n",
    "            ax.plot((0, 1), (1.5, 1.5), c='r', linewidth=4)\n",
    "        if i == 1 and feature:\n",
    "            ax.plot((0, 0), (0.75, 1.5), c='r', linewidth=4)\n",
    "        if i == 2 and feature:\n",
    "            ax.plot((1, 1), (0.75, 1.5), c='r', linewidth=4)\n",
    "        if i == 3 and feature:\n",
    "            ax.plot((0, 1), (0.75, 0.75), c='r', linewidth=4)\n",
    "        if i == 4 and feature:\n",
    "            ax.plot((0, 0), (0.75, 0), c='r', linewidth=4)\n",
    "        if i == 5 and feature:\n",
    "            ax.plot((1, 1), (0.75, 0), c='r', linewidth=4)\n",
    "        if i == 6 and feature:\n",
    "            ax.plot((0, 1), (0, 0), c='r', linewidth=4)\n",
    "\n",
    "def DrawDigitalNumbers(count_in_lines, samples):\n",
    "    \"\"\"\n",
    "    draw digital numbers based on input features\n",
    "    \"\"\"\n",
    "    number = len(samples)\n",
    "    \n",
    "    rows = (number // count_in_lines + 1)\n",
    "    fig = plt.figure(figsize=(1 * count_in_lines, 1.5 * rows))\n",
    "    for i in range(number):\n",
    "        ax = fig.add_subplot(rows, count_in_lines, i + 1)\n",
    "        DrawDigitalNumber(ax, samples[i])\n",
    "       \n",
    "    \n",
    "print(dis[:45])\n",
    "DrawDigitalNumbers(20, data[:45])"
   ]
  },
  {
   "cell_type": "code",
   "execution_count": 206,
   "metadata": {},
   "outputs": [
    {
     "data": {
      "text/plain": [
       "((819, 7), (205,))"
      ]
     },
     "execution_count": 206,
     "metadata": {},
     "output_type": "execute_result"
    }
   ],
   "source": [
    "# Create training set and valid set\n",
    "# Do not change parameter values when doing the course work\n",
    "\n",
    "X = data\n",
    "Y = dis\n",
    "Train_x, Valid_x, Train_y, Valid_y = train_test_split(X, Y, train_size=0.8, random_state=42)\n",
    "Train_x.shape, Valid_y.shape"
   ]
  },
  {
   "cell_type": "markdown",
   "metadata": {},
   "source": [
    "# 2. Create Model"
   ]
  },
  {
   "cell_type": "markdown",
   "metadata": {},
   "source": [
    "# ---------------------------------Subtasks start here------------------------------------"
   ]
  },
  {
   "cell_type": "markdown",
   "metadata": {},
   "source": [
    "## Most important: One vs. One tricks\n",
    "- You are going to finish these tasks using only perceptrons. However, perceptron can only deal with binary classification problem, so we need **One vs. One tricks** to deal with multi-class classification problems. Check the wikipedia before start: https://en.wikipedia.org/wiki/Multiclass_classification#One-vs.-one"
   ]
  },
  {
   "cell_type": "markdown",
   "metadata": {},
   "source": [
    "## 2.1. Subtask1: Pure Numpy (40%)\n",
    "- The basic idea is to use binary classifiers to deal with multiclass problems (class >= 3) by applying some tricks. Thus, the perceptron step below is the same as usual. You do not need to use softmax but just make votes by a series of binary classifiers. You can call the following functions multiple times to train all classifiers, but only one classifier will be trained in each call."
   ]
  },
  {
   "cell_type": "code",
   "execution_count": 207,
   "metadata": {},
   "outputs": [],
   "source": [
    "# 5%: fill in codes to update weights and bias. If correct, the next cell will generate same results\n",
    "\n",
    "def StepFunction(xi, w, b):\n",
    "    linear_combination = (np.matmul(xi, w) + b)[0]\n",
    "    if linear_combination > 0:\n",
    "        output = 1\n",
    "    else:\n",
    "        output = 0\n",
    "    return output\n",
    "\n",
    "def perceptronStep(X, y, W, b, learn_rate=0.01):\n",
    "    for i in range(len(y)):\n",
    "        output = StepFunction(X[i], W, b)\n",
    "        \n",
    "        if output != y[i]:\n",
    "            if output == 0:\n",
    "                for j in range(len(W)):\n",
    "                    W[j] += X[i][j] * learn_rate\n",
    "                b += learn_rate\n",
    "            elif output == 1:\n",
    "                for j in range(len(W)):\n",
    "                    W[j] -= X[i][j] * learn_rate\n",
    "                b -= learn_rate\n",
    "    return W, b"
   ]
  },
  {
   "cell_type": "code",
   "execution_count": 208,
   "metadata": {},
   "outputs": [
    {
     "data": {
      "text/plain": [
       "(array([[ 0.02454012],\n",
       "        [ 0.01071431],\n",
       "        [-0.01800606],\n",
       "        [ 0.00865848],\n",
       "        [-0.01398136],\n",
       "        [-0.05400548],\n",
       "        [-0.05191639]]),\n",
       " 0.006176145774933544)"
      ]
     },
     "execution_count": 208,
     "metadata": {},
     "output_type": "execute_result"
    }
   ],
   "source": [
    "# Do not change this seed when doing the course work\n",
    "np.random.seed(42)\n",
    "\n",
    "def trainPerceptronAlgorithm(X, y, learn_rate=0.01, num_epochs=5):\n",
    "    W = np.array(np.random.rand(X.shape[1], 1))\n",
    "    b = np.random.rand(1)[0] + max(X.T[0])\n",
    "    for i in range(num_epochs):\n",
    "        # In each epoch, we apply the perceptron step.\n",
    "        W, b = perceptronStep(X, y, W, b, learn_rate)\n",
    "    return W, b\n",
    "\n",
    "trainPerceptronAlgorithm(Train_x, Train_y)"
   ]
  },
  {
   "cell_type": "code",
   "execution_count": 209,
   "metadata": {},
   "outputs": [
    {
     "data": {
      "text/plain": [
       "(array([8, 9, 7, 2, 4, 4, 0, 6, 8, 9, 3, 7, 0, 0, 5, 2, 5, 9, 5, 4, 8, 4,\n",
       "        1, 8, 6, 4, 5, 0, 6, 8, 7, 6, 0, 7, 8, 1, 3, 2, 9, 5, 6, 0, 8, 3,\n",
       "        8, 9, 8, 5, 3, 4, 8, 1, 9, 5, 1, 3, 8, 9, 2, 2, 7, 7, 0, 7, 1, 8,\n",
       "        4, 0, 7, 5, 8, 0, 4, 8, 5, 4, 6, 7, 6, 2, 2, 3, 2, 6, 6, 0, 7, 0,\n",
       "        0, 9, 3, 0, 4, 8, 6, 3, 5, 7, 4, 0, 8, 7, 5, 9, 8, 4, 3, 6, 3, 6,\n",
       "        7, 9, 1, 7, 9, 7, 1, 3, 9, 1, 1, 4, 2, 2, 3, 8, 1, 8, 7, 8, 5, 2,\n",
       "        5, 9, 5, 0, 2, 7, 3, 8, 8, 2, 9, 7, 5, 2, 6, 3, 7, 4, 9, 3, 9, 2,\n",
       "        0, 1, 4, 9, 7, 1, 1, 3, 7, 9, 8, 0, 2, 4, 3, 9, 6, 4, 6, 2, 9, 3,\n",
       "        2, 2, 7, 3, 2, 1, 3, 2, 7, 9, 3, 4, 2, 9, 4, 0, 4, 2, 0, 2, 4, 0,\n",
       "        2, 1, 7, 1, 9, 0, 1]),\n",
       " array([8, 9, 7, 2, 4, 4, 0, 6, 8, 9, 3, 7, 0, 0, 5, 2, 5, 9, 5, 4, 8, 4,\n",
       "        1, 8, 6, 4, 5, 0, 6, 8, 7, 6, 0, 7, 8, 1, 3, 2, 9, 5, 6, 0, 8, 3,\n",
       "        8, 9, 8, 5, 3, 4, 8, 1, 9, 5, 1, 3, 8, 9, 2, 2, 7, 7, 0, 7, 1, 8,\n",
       "        4, 0, 7, 5, 8, 0, 4, 8, 5, 4, 6, 7, 6, 2, 2, 3, 2, 6, 6, 0, 7, 0,\n",
       "        0, 9, 3, 0, 4, 8, 6, 3, 5, 7, 4, 0, 8, 7, 5, 9, 8, 4, 3, 6, 3, 6,\n",
       "        7, 9, 1, 7, 9, 7, 1, 3, 9, 1, 1, 4, 2, 2, 3, 8, 1, 8, 7, 8, 5, 2,\n",
       "        5, 9, 5, 0, 2, 7, 3, 8, 8, 2, 9, 7, 5, 2, 6, 3, 7, 4, 9, 3, 9, 2,\n",
       "        0, 1, 4, 9, 7, 1, 1, 3, 7, 9, 8, 0, 2, 4, 3, 9, 6, 4, 6, 2, 9, 3,\n",
       "        2, 2, 7, 3, 2, 1, 3, 2, 7, 9, 3, 4, 2, 9, 4, 0, 4, 2, 0, 2, 4, 0,\n",
       "        2, 1, 7, 1, 9, 0, 1]))"
      ]
     },
     "execution_count": 209,
     "metadata": {},
     "output_type": "execute_result"
    }
   ],
   "source": [
    "# 20%: fill in codes to build the model with one vs. one tricks\n",
    "\n",
    "# Do not change this seed when doing the course work\n",
    "np.random.seed(42)\n",
    "\n",
    "scores = np.zeros((len(Valid_y), 10))\n",
    "count = np.unique(Train_y, return_counts=True)[1]\n",
    "\n",
    "def fill_scores(scores, scores_train=None, epochs=None):\n",
    "    for i in range(10):\n",
    "        for j in range(i + 1, 10):\n",
    "            inp_x = np.zeros((count[i] + count[j], Train_x.shape[1]))\n",
    "            inp_y = np.zeros(count[i] + count[j])\n",
    "            free_index = 0\n",
    "\n",
    "            for z in range(len(Train_y)):\n",
    "                if Train_y[z] == i or Train_y[z] == j:\n",
    "                    inp_x[free_index] = Train_x[z]\n",
    "\n",
    "                    if Train_y[z] == i:\n",
    "                        inp_y[free_index] = 1 #i positive case\n",
    "                    else:\n",
    "                        inp_y[free_index] = 0 #j negative case\n",
    "\n",
    "                    free_index += 1\n",
    "            \n",
    "            #classifer that can predict between i and j\n",
    "            if epochs is not None:\n",
    "                W, b = trainPerceptronAlgorithm(inp_x, inp_y, num_epochs=epochs)\n",
    "            else:\n",
    "                W, b = trainPerceptronAlgorithm(inp_x, inp_y)\n",
    "                \n",
    "            #fill scores (prediction for Valid_x)\n",
    "            for idx, inp in enumerate(Valid_x):\n",
    "                class_picked = i if StepFunction(inp, W, b) == 1 else j\n",
    "                scores[idx][class_picked] +=1\n",
    "                \n",
    "            if scores_train is not None:\n",
    "                #fill scores_train (prediction from Train_x)\n",
    "                for idx, inp in enumerate(Train_x):\n",
    "                    class_picked = i if StepFunction(inp, W, b) == 1 else j\n",
    "                    scores_train[idx][class_picked] +=1            \n",
    "          \n",
    "fill_scores(scores)\n",
    "Predict_Y = scores.argmax(1)\n",
    "Predict_Y, Valid_y"
   ]
  },
  {
   "cell_type": "code",
   "execution_count": 210,
   "metadata": {},
   "outputs": [
    {
     "name": "stdout",
     "output_type": "stream",
     "text": [
      "[8 9 7 2 4 4 0 6 8 9]\n"
     ]
    },
    {
     "data": {
      "image/png": "[encoded data removed]",
      "text/plain": [
       "<Figure size 720x216 with 10 Axes>"
      ]
     },
     "metadata": {},
     "output_type": "display_data"
    }
   ],
   "source": [
    "print(Predict_Y[:10])\n",
    "DrawDigitalNumbers(10, Valid_x[:10])"
   ]
  },
  {
   "cell_type": "code",
   "execution_count": 211,
   "metadata": {},
   "outputs": [
    {
     "data": {
      "image/png": "[encoded data removed]",
      "text/plain": [
       "<Figure size 1512x432 with 3 Axes>"
      ]
     },
     "metadata": {
      "needs_background": "light"
     },
     "output_type": "display_data"
    }
   ],
   "source": [
    "# 20%: Draw precision/recall/f1 lines for training set and valid set as epoch increasing from 1 to 5\n",
    "# Note: titles, legends, labels and scales are required in your plots. You can choose colors and formats by yourself.\n",
    "\n",
    "# I would recommend use precision_recall_fscore_support function from sklearn\n",
    "from sklearn.metrics import precision_recall_fscore_support \n",
    "\n",
    "# Do not change this seed when doing the course work\n",
    "np.random.seed(42)\n",
    "\n",
    "f = plt.figure(figsize=(21, 6))\n",
    "ax1 = f.add_subplot(131)\n",
    "ax2 = f.add_subplot(132)\n",
    "ax3 = f.add_subplot(133)\n",
    "\n",
    "def plotAxis(ax, valid, train, ylabel):\n",
    "    ax.plot(range(1, 6), valid, linewidth=4, label=(\"Valid \" + ylabel))\n",
    "    ax.plot(range(1, 6), train, linewidth=4, label=(\"Train \" + ylabel))\n",
    "    ax.legend()\n",
    "    ax.set_xlabel(\"Number of epochs\")\n",
    "    ax.set_ylabel(ylabel)\n",
    "    ax.set_title(ylabel + \" lines for training set and valid set\")\n",
    "\n",
    "precisions_train = []\n",
    "precisions_valid = []\n",
    "recalls_train = []\n",
    "recalls_valid = []\n",
    "f1s_train = []\n",
    "f1s_valid = []\n",
    "\n",
    "#settings\n",
    "avg_type = 'micro'\n",
    "\n",
    "for epochs in range(1, 6):\n",
    "    scores = np.zeros((len(Valid_y), 10))\n",
    "    scores_train = np.zeros((len(Train_y), 10))\n",
    "    \n",
    "    fill_scores(scores, scores_train, epochs)\n",
    "    \n",
    "    Predict_Y = scores.argmax(1)\n",
    "    Predict_Train_Y = scores_train.argmax(1)\n",
    "    \n",
    "    precision, recall, f1, s = precision_recall_fscore_support(Valid_y, Predict_Y, average=avg_type)\n",
    "    precisions_valid.append(precision)\n",
    "    recalls_valid.append(recall)\n",
    "    f1s_valid.append(f1)\n",
    "    \n",
    "    precision_train, recall_train, f1_train, s_train = precision_recall_fscore_support(Train_y, Predict_Train_Y, average=avg_type)\n",
    "    precisions_train.append(precision_train)\n",
    "    recalls_train.append(recall_train)\n",
    "    f1s_train.append(f1_train)\n",
    "    \n",
    "plotAxis(ax1, precisions_valid, precisions_train, \"Precision\")\n",
    "plotAxis(ax2, recalls_valid, recalls_train, \"Recall\")\n",
    "plotAxis(ax3, f1s_valid, f1s_train, \"F1\")"
   ]
  },
  {
   "cell_type": "markdown",
   "metadata": {},
   "source": [
    "## 2.2. Subtask2: Sklearn (5%)"
   ]
  },
  {
   "cell_type": "code",
   "execution_count": 212,
   "metadata": {},
   "outputs": [
    {
     "data": {
      "text/plain": [
       "Perceptron(alpha=0.0001, class_weight=None, early_stopping=False, eta0=0.1,\n",
       "           fit_intercept=True, max_iter=25, n_iter_no_change=5, n_jobs=None,\n",
       "           penalty=None, random_state=42, shuffle=True, tol=0.001,\n",
       "           validation_fraction=0.1, verbose=0, warm_start=False)"
      ]
     },
     "execution_count": 212,
     "metadata": {},
     "output_type": "execute_result"
    }
   ],
   "source": [
    "from sklearn.linear_model import Perceptron\n",
    "\n",
    "clf = Perceptron(max_iter=25, eta0=0.1, random_state=42)\n",
    "clf"
   ]
  },
  {
   "cell_type": "code",
   "execution_count": 213,
   "metadata": {},
   "outputs": [
    {
     "name": "stdout",
     "output_type": "stream",
     "text": [
      "Trained Weights are:  [[-0.1 -0.1  0.1 -0.7  0.1  0.1  0.3]\n",
      " [-0.1  0.1 -0.1 -0.1  0.1 -0.1 -0.1]\n",
      " [ 0.  -0.3  0.   0.1  0.1 -0.4  0. ]\n",
      " [ 0.  -0.3  0.   0.1 -0.2  0.1  0. ]\n",
      " [-0.3  0.   0.1  0.2 -0.2  0.1 -0.2]\n",
      " [ 0.1  0.  -0.3  0.  -0.3  0.   0.1]\n",
      " [ 0.1 -0.2 -0.4  0.1  0.3  0.1  0.1]\n",
      " [ 0.1  0.   0.1 -0.2 -0.1  0.  -0.2]\n",
      " [-0.1  0.1  0.1  0.2  0.6  0.1 -0.1]\n",
      " [ 0.   0.3  0.2  0.  -0.6 -0.3  0.3]]\n",
      "Trained Bias are:  [-0.3  0.  -0.1  0.  -0.1  0.  -0.3  0.  -0.9 -0.5]\n"
     ]
    }
   ],
   "source": [
    "# 5%: check the usage of sklearn library and fill the codes to build the model, then print trained weights and bias\n",
    "# Do not mind one vs. one tricks here, sklearn uses one vs. rest trciks in default\n",
    "\n",
    "clf.fit(Train_x, Train_y)\n",
    "print(\"Trained Weights are: \", clf.coef_)\n",
    "print(\"Trained Bias are: \", clf.intercept_)"
   ]
  },
  {
   "cell_type": "markdown",
   "metadata": {},
   "source": [
    "## 2.3. Subtask3: Pytorch (25%)\n",
    "- Probably you may have noticed it is too complicated to build a neural network with pure numpy, while too simple with sklearn that you can barely know nothing about the running process. Thus, we will do this with Pytorch, one of the most popular neural network library in Python. Pytorch allows users to build own neural network architecture intuitively. This is beacuse Pytorch updates weights and bias automatically once you set up the forwarding process of your network. In other words, Pytorch can implement backpropagation by itself."
   ]
  },
  {
   "cell_type": "code",
   "execution_count": 214,
   "metadata": {},
   "outputs": [
    {
     "name": "stdout",
     "output_type": "stream",
     "text": [
      "My Pytorch version: 1.4.0\n"
     ]
    }
   ],
   "source": [
    "import torch\n",
    "print(\"My Pytorch version: \" + torch.__version__)\n",
    "from torch.autograd import Variable\n",
    "import torch.nn as nn\n",
    "import torch.optim as optim\n",
    "\n",
    "def setup_seed(seed):\n",
    "    torch.manual_seed(seed)\n",
    "    torch.cuda.manual_seed_all(seed)\n",
    "    np.random.seed(seed)\n",
    "    torch.backends.cudnn.deterministic = True"
   ]
  },
  {
   "cell_type": "code",
   "execution_count": 215,
   "metadata": {},
   "outputs": [],
   "source": [
    "# 5%: set up the network architecture. If correct, the next cell will generate same results\n",
    "\n",
    "# In general, we can import activation functions like Sigmoid or Relu directly from Pytroch Library\n",
    "# However, Pytorch does not contain Heaviside Step Function\n",
    "class StepF(torch.autograd.Function):\n",
    "    def forward(self, input):\n",
    "        input[input > 0] = 1\n",
    "        input[input <= 0] = 0\n",
    "        return input\n",
    "    \n",
    "    def backward(self, input):\n",
    "        return input\n",
    "    \n",
    "class Net(nn.Module):\n",
    "    def __init__(self):\n",
    "        super(Net, self).__init__()\n",
    "        self.fc1 = nn.Linear(7, 1)\n",
    "        self.act = StepF()\n",
    "\n",
    "    def forward(self, x):\n",
    "        x = self.fc1(x)\n",
    "        x = self.act(x)\n",
    "        return x"
   ]
  },
  {
   "cell_type": "code",
   "execution_count": 216,
   "metadata": {},
   "outputs": [
    {
     "name": "stdout",
     "output_type": "stream",
     "text": [
      "Epoch 1 - loss: 16.645198822021484\n",
      "Epoch 2 - loss: 10.985822677612305\n",
      "Epoch 3 - loss: 10.985822677612305\n",
      "Epoch 4 - loss: 0.0\n",
      "Epoch 5 - loss: 0.0\n",
      "Epoch 6 - loss: 0.0\n",
      "Epoch 7 - loss: 0.0\n",
      "Epoch 8 - loss: 0.0\n",
      "Epoch 9 - loss: 0.0\n",
      "Epoch 10 - loss: 0.0\n"
     ]
    }
   ],
   "source": [
    "# This is the sample codes to run a perceptron on a binary problem with Pytorch\n",
    "\n",
    "setup_seed(42)\n",
    "net = Net()\n",
    "loss_fun = nn.BCELoss()\n",
    "optimizer = optim.SGD(net.parameters(), lr=0.01)\n",
    "\n",
    "Sample_x, Sample_y = [], []\n",
    "for i in range(len(Train_y)):\n",
    "    if Train_y[i] in [0, 1]:\n",
    "        Sample_x.append(Train_x[i])\n",
    "        Sample_y.append(Train_y[i])\n",
    "Sample_x = np.array(Sample_x)\n",
    "Sample_y = np.array(Sample_y)\n",
    "X = Variable(torch.FloatTensor(Sample_x), requires_grad=True)\n",
    "Y = Variable(torch.FloatTensor(Sample_y), requires_grad=False)\n",
    "for epoch in range(1, 11):\n",
    "    outputs = net(X)\n",
    "    loss = loss_fun(outputs, Y)\n",
    "    optimizer.zero_grad()\n",
    "    loss.backward()\n",
    "    optimizer.step()\n",
    "    print(\"Epoch {} - loss: {}\".format(epoch, loss.data))"
   ]
  },
  {
   "cell_type": "code",
   "execution_count": 217,
   "metadata": {},
   "outputs": [
    {
     "name": "stdout",
     "output_type": "stream",
     "text": [
      "Class 0 - loss: 0.0\n",
      "Class 0 - loss: 0.0\n",
      "Class 0 - loss: 0.0\n",
      "Class 0 - loss: 0.0\n",
      "Class 0 - loss: 0.0\n",
      "Class 0 - loss: 0.0\n",
      "Class 0 - loss: 0.0\n",
      "Class 0 - loss: 0.0\n",
      "Class 0 - loss: 0.0\n",
      "Class 1 - loss: 0.0\n",
      "Class 1 - loss: 0.0\n",
      "Class 1 - loss: 0.0\n",
      "Class 1 - loss: 0.0\n",
      "Class 1 - loss: 0.0\n",
      "Class 1 - loss: 0.0\n",
      "Class 1 - loss: 0.0\n",
      "Class 1 - loss: 0.0\n",
      "Class 2 - loss: 0.0\n",
      "Class 2 - loss: 0.0\n",
      "Class 2 - loss: 0.0\n",
      "Class 2 - loss: 0.0\n",
      "Class 2 - loss: 0.0\n",
      "Class 2 - loss: 0.0\n",
      "Class 2 - loss: 0.0\n",
      "Class 3 - loss: 0.0\n",
      "Class 3 - loss: 0.0\n",
      "Class 3 - loss: 0.0\n",
      "Class 3 - loss: 0.0\n",
      "Class 3 - loss: 0.0\n",
      "Class 3 - loss: 0.0\n",
      "Class 4 - loss: 0.0\n",
      "Class 4 - loss: 0.0\n",
      "Class 4 - loss: 0.0\n",
      "Class 4 - loss: 0.0\n",
      "Class 4 - loss: 0.0\n",
      "Class 5 - loss: 0.0\n",
      "Class 5 - loss: 0.0\n",
      "Class 5 - loss: 0.0\n",
      "Class 5 - loss: 0.0\n",
      "Class 6 - loss: 0.0\n",
      "Class 6 - loss: 12.89447021484375\n",
      "Class 6 - loss: 0.0\n",
      "Class 7 - loss: 0.0\n",
      "Class 7 - loss: 0.0\n",
      "Class 8 - loss: 0.0\n"
     ]
    },
    {
     "data": {
      "text/plain": [
       "(array([8, 9, 7, 2, 4, 4, 0, 6, 8, 9, 3, 7, 0, 0, 5, 2, 5, 9, 5, 4, 8, 4,\n",
       "        1, 8, 6, 4, 5, 0, 6, 8, 7, 6, 0, 7, 8, 1, 3, 2, 9, 5, 6, 0, 8, 3,\n",
       "        8, 9, 8, 5, 3, 4, 8, 1, 9, 5, 1, 3, 8, 9, 2, 2, 7, 7, 0, 7, 1, 8,\n",
       "        4, 0, 7, 5, 8, 0, 4, 8, 5, 4, 6, 7, 6, 2, 2, 3, 2, 6, 6, 0, 7, 0,\n",
       "        0, 9, 3, 0, 4, 8, 6, 3, 5, 7, 4, 0, 8, 7, 5, 9, 8, 4, 3, 6, 3, 6,\n",
       "        7, 9, 1, 7, 9, 7, 1, 3, 9, 1, 1, 4, 2, 2, 3, 8, 1, 8, 7, 8, 5, 2,\n",
       "        5, 9, 5, 0, 2, 7, 3, 8, 8, 2, 9, 7, 5, 2, 6, 3, 7, 4, 9, 3, 9, 2,\n",
       "        0, 1, 4, 9, 7, 1, 1, 3, 7, 9, 8, 0, 2, 4, 3, 9, 6, 4, 6, 2, 9, 3,\n",
       "        2, 2, 7, 3, 2, 1, 3, 2, 7, 9, 3, 4, 2, 9, 4, 0, 4, 2, 0, 2, 4, 0,\n",
       "        2, 1, 7, 1, 9, 0, 1]),\n",
       " array([8, 9, 7, 2, 4, 4, 0, 6, 8, 9, 3, 7, 0, 0, 5, 2, 5, 9, 5, 4, 8, 4,\n",
       "        1, 8, 6, 4, 5, 0, 6, 8, 7, 6, 0, 7, 8, 1, 3, 2, 9, 5, 6, 0, 8, 3,\n",
       "        8, 9, 8, 5, 3, 4, 8, 1, 9, 5, 1, 3, 8, 9, 2, 2, 7, 7, 0, 7, 1, 8,\n",
       "        4, 0, 7, 5, 8, 0, 4, 8, 5, 4, 6, 7, 6, 2, 2, 3, 2, 6, 6, 0, 7, 0,\n",
       "        0, 9, 3, 0, 4, 8, 6, 3, 5, 7, 4, 0, 8, 7, 5, 9, 8, 4, 3, 6, 3, 6,\n",
       "        7, 9, 1, 7, 9, 7, 1, 3, 9, 1, 1, 4, 2, 2, 3, 8, 1, 8, 7, 8, 5, 2,\n",
       "        5, 9, 5, 0, 2, 7, 3, 8, 8, 2, 9, 7, 5, 2, 6, 3, 7, 4, 9, 3, 9, 2,\n",
       "        0, 1, 4, 9, 7, 1, 1, 3, 7, 9, 8, 0, 2, 4, 3, 9, 6, 4, 6, 2, 9, 3,\n",
       "        2, 2, 7, 3, 2, 1, 3, 2, 7, 9, 3, 4, 2, 9, 4, 0, 4, 2, 0, 2, 4, 0,\n",
       "        2, 1, 7, 1, 9, 0, 1]))"
      ]
     },
     "execution_count": 217,
     "metadata": {},
     "output_type": "execute_result"
    }
   ],
   "source": [
    "# 20%: based on codes above, fill the codes to build the digital number classfication model with one vs. one tricks\n",
    "\n",
    "scores = np.zeros((len(Valid_y), 10))\n",
    "for i in range(10):\n",
    "    for j in range(i + 1, 10):\n",
    "        setup_seed(42)\n",
    "        net = Net()\n",
    "        loss_fun = nn.BCELoss()\n",
    "        optimizer = optim.SGD(net.parameters(), lr=0.01)\n",
    "        \n",
    "        inp_x = np.zeros((count[i] + count[j], Train_x.shape[1]))\n",
    "        inp_y = np.zeros(count[i] + count[j])\n",
    "        free_index = 0\n",
    "        \n",
    "        for z in range(len(Train_y)):\n",
    "            if Train_y[z] == i or Train_y[z] == j:\n",
    "                inp_x[free_index] = Train_x[z]\n",
    "\n",
    "                if Train_y[z] == i:\n",
    "                    inp_y[free_index] = 1 #i positive case\n",
    "                else:\n",
    "                    inp_y[free_index] = 0 #j negative case\n",
    "\n",
    "                free_index += 1\n",
    "        \n",
    "        X = Variable(torch.FloatTensor(inp_x), requires_grad=True)\n",
    "        Y = Variable(torch.FloatTensor(inp_y), requires_grad=False)\n",
    "        for epoch in range(15):\n",
    "            outputs = net(X)\n",
    "            loss = loss_fun(outputs, Y)\n",
    "            optimizer.zero_grad()\n",
    "            loss.backward()\n",
    "            optimizer.step()\n",
    "        \n",
    "        print(\"Class {} - loss: {}\".format(i, loss.data))\n",
    "\n",
    "        paras = list(net.parameters())\n",
    "        W, b = paras[0].detach().numpy().T, paras[1].detach().numpy()\n",
    "        score = (np.dot(Valid_x, paras[0].detach().numpy().T) + paras[1].detach().numpy())[:,0]\n",
    "        \n",
    "        #todo: use StepF.forward\n",
    "        clf = np.asarray([i if w > 0 else j for w in score])\n",
    "        for idx in range(len(score)): #formatting voting results in score\n",
    "            class_predicted = i if score[idx] > 0 else j\n",
    "            scores[idx][class_predicted] += 1\n",
    "\n",
    "Predict_Y = scores.argmax(1)\n",
    "Predict_Y, Valid_y"
   ]
  },
  {
   "cell_type": "markdown",
   "metadata": {},
   "source": [
    "## 2.4. Subtask4: Digital Alphabet Data (25%)"
   ]
  },
  {
   "cell_type": "code",
   "execution_count": 218,
   "metadata": {},
   "outputs": [
    {
     "data": {
      "text/html": [
       "<img src=\"https://raw.githubusercontent.com/LuJunru/CS331-Neural-Computing-Tutorials/master/Week6/digit_reco_26_letters.png\"/>"
      ],
      "text/plain": [
       "<IPython.core.display.Image object>"
      ]
     },
     "execution_count": 218,
     "metadata": {},
     "output_type": "execute_result"
    }
   ],
   "source": [
    "Image(url=pic_links[2]) "
   ]
  },
  {
   "cell_type": "code",
   "execution_count": 219,
   "metadata": {},
   "outputs": [],
   "source": [
    "\"\"\"\n",
    "Develop the codes: Create digital alphabet data (upper-case letters), and then build a neural network.\n",
    "Hint: If you feel that linear perceptron cannot handle this data, you can use multi-layer structures\n",
    "      and non-linear activation functions. Please refer to the warming-up exercises for more hints.\n",
    "\"\"\"\n",
    "\n",
    "alphabet = {\n",
    "    \"A\": [1, 1, 0, 0, 0, 1, 1, 1, 1, 0, 0, 0, 1, 0],\n",
    "    \"B\": [1, 0, 0, 1, 0, 1, 0, 1, 0, 0, 1, 0, 1, 1],\n",
    "    \"C\": [1, 1, 0, 0, 0, 0, 0, 0, 1, 0, 0, 0, 0, 1],\n",
    "    \"D\": [1, 0, 0, 1, 0, 1, 0, 0, 0, 0, 1, 0, 1, 1], \n",
    "    \"E\": [1, 1, 0, 0, 0, 0, 1, 0, 1, 0, 0, 0, 0, 1],\n",
    "    \"F\": [1, 1, 0, 0, 0, 0, 1, 0, 1, 0, 0, 0, 0, 0],\n",
    "    \"G\": [1, 1, 0, 0, 0, 0, 0, 1, 1, 0, 0, 0, 1, 1],\n",
    "    \"H\": [0, 1, 0, 0, 0, 1, 1, 1, 1, 0, 0, 0, 1, 0],\n",
    "    \"I\": [1, 0, 0, 1, 0, 0, 0, 0, 0, 0, 1, 0, 0, 1],\n",
    "    \"J\": [0, 0, 0, 0, 0, 1, 0, 0, 1, 0, 0, 0, 1, 1],\n",
    "    \"K\": [0, 1, 0, 0, 1, 0, 1, 0, 1, 0, 0, 1, 0, 0],\n",
    "    \"L\": [0, 1, 0, 0, 0, 0, 0, 0, 1, 0, 0, 0, 0, 1],\n",
    "    \"M\": [0, 1, 1, 0, 1, 1, 0, 0, 1, 0, 0, 0, 1, 0],\n",
    "    \"N\": [0, 1, 1, 0, 0, 1, 0, 0, 1, 0, 0, 1, 1, 0],\n",
    "    \"O\": [1, 1, 0, 0, 0, 1, 0, 0, 1, 0, 0, 0, 1, 1],\n",
    "    \"P\": [1, 1, 0, 0, 0, 1, 1, 1, 1, 0, 0, 0, 0, 0],\n",
    "    \"Q\": [1, 1, 0, 0, 0, 1, 0, 0, 1, 0, 0, 1, 1, 1],\n",
    "    \"R\": [1, 1, 0, 0, 0, 1, 1, 1, 1, 0, 0, 1, 0, 0],\n",
    "    \"S\": [1, 1, 0, 0, 0, 0, 1, 1, 0, 0, 0, 0, 1, 1],\n",
    "    \"T\": [1, 0, 0, 1, 0, 0, 0, 0, 0, 0, 1, 0, 0, 0],\n",
    "    \"U\": [0, 1, 0, 0, 0, 1, 0, 0, 1, 0, 0, 0, 1, 1],\n",
    "    \"V\": [0, 1, 0, 0, 1, 0, 0, 0, 1, 1, 0, 0, 0, 0],\n",
    "    \"W\": [0, 1, 0, 0, 0, 1, 0, 0, 1, 1, 0, 1, 0, 1],\n",
    "    \"X\": [0, 0, 1, 0, 1, 0, 0, 0, 0, 1, 0, 1, 0, 0],\n",
    "    \"Y\": [0, 0, 1, 0, 1, 0, 0, 0, 0, 0, 1, 0, 0, 0],\n",
    "    \"Z\": [1, 0, 0, 0, 1, 0, 0, 0, 0, 1, 0, 0, 0, 1]\n",
    "}"
   ]
  },
  {
   "cell_type": "code",
   "execution_count": 220,
   "metadata": {},
   "outputs": [],
   "source": [
    "def intToUpperCase(n):\n",
    "    return chr(65 + n)\n",
    "\n",
    "#get X, Y data from random generation\n",
    "Y = np.array([intToUpperCase(n) for n in rng.randint(0, 26, size=(1024))])\n",
    "X = np.array([alphabet[v] for v in Y])\n",
    "\n",
    "Train_x, Valid_x, Train_y, Valid_y = train_test_split(X, Y, train_size=0.8, random_state=42)"
   ]
  },
  {
   "cell_type": "code",
   "execution_count": 221,
   "metadata": {},
   "outputs": [
    {
     "data": {
      "text/plain": [
       "(array(['R', 'J', 'X', 'L', 'R', 'Q', 'K', 'M', 'R', 'Y', 'Z', 'S', 'Q',\n",
       "        'Y', 'O', 'N', 'H', 'Y', 'Y', 'O', 'W', 'E', 'A', 'S', 'E', 'C',\n",
       "        'C', 'C', 'U', 'O', 'Q', 'G', 'A', 'Z', 'Y', 'J', 'W', 'F', 'O',\n",
       "        'F', 'B', 'O', 'U', 'M', 'Q', 'M', 'A', 'K', 'V', 'C', 'L', 'C',\n",
       "        'G', 'Y', 'A', 'I', 'A', 'J', 'G', 'W', 'G', 'W', 'C', 'L', 'Y',\n",
       "        'K', 'V', 'T', 'T', 'K', 'X', 'D', 'V', 'S', 'M', 'U', 'K', 'K',\n",
       "        'E', 'R', 'U', 'H', 'Q', 'R', 'B', 'J', 'H', 'L', 'Y', 'Y', 'U',\n",
       "        'U', 'O', 'M', 'S', 'Q', 'T', 'M', 'Q', 'Y', 'W', 'V', 'L', 'R',\n",
       "        'S', 'S', 'W', 'W', 'N', 'A', 'O', 'Y', 'A', 'C', 'S', 'C', 'Z',\n",
       "        'S', 'B', 'X', 'I', 'S', 'Q', 'O', 'V', 'O', 'M', 'G', 'C', 'A',\n",
       "        'U', 'R', 'J', 'E', 'W', 'I', 'O', 'T', 'W', 'J', 'M', 'Y', 'E',\n",
       "        'X', 'N', 'Y', 'L', 'B', 'I', 'F', 'M', 'V', 'X', 'Y', 'B', 'A',\n",
       "        'W', 'V', 'E', 'K', 'L', 'L', 'A', 'E', 'B', 'R', 'R', 'X', 'L',\n",
       "        'R', 'T', 'X', 'A', 'F', 'G', 'A', 'G', 'E', 'R', 'F', 'X', 'X',\n",
       "        'K', 'O', 'V', 'R', 'E', 'A', 'D', 'K', 'N', 'E', 'O', 'Y', 'Q',\n",
       "        'W', 'Y', 'Z', 'L', 'N', 'H', 'F', 'A', 'L', 'Q'], dtype='<U1'),\n",
       " array(['R', 'J', 'X', 'L', 'R', 'Q', 'K', 'M', 'R', 'Y', 'Z', 'S', 'Q',\n",
       "        'Y', 'O', 'N', 'H', 'Y', 'Y', 'O', 'W', 'E', 'A', 'S', 'E', 'C',\n",
       "        'C', 'C', 'U', 'O', 'Q', 'G', 'P', 'Z', 'Y', 'J', 'W', 'F', 'O',\n",
       "        'F', 'B', 'O', 'U', 'M', 'Q', 'M', 'P', 'K', 'V', 'C', 'L', 'C',\n",
       "        'G', 'Y', 'P', 'I', 'A', 'J', 'G', 'W', 'G', 'W', 'C', 'L', 'Y',\n",
       "        'K', 'V', 'T', 'T', 'K', 'X', 'D', 'V', 'S', 'M', 'U', 'K', 'K',\n",
       "        'E', 'R', 'U', 'H', 'Q', 'R', 'B', 'J', 'H', 'L', 'Y', 'Y', 'U',\n",
       "        'U', 'O', 'M', 'S', 'Q', 'T', 'M', 'Q', 'Y', 'W', 'V', 'L', 'R',\n",
       "        'S', 'S', 'W', 'W', 'N', 'P', 'O', 'Y', 'A', 'C', 'S', 'C', 'Z',\n",
       "        'S', 'B', 'X', 'I', 'S', 'Q', 'O', 'V', 'O', 'M', 'G', 'C', 'A',\n",
       "        'U', 'R', 'J', 'E', 'W', 'I', 'O', 'T', 'W', 'J', 'M', 'Y', 'E',\n",
       "        'X', 'N', 'Y', 'L', 'B', 'I', 'F', 'M', 'V', 'X', 'Y', 'B', 'A',\n",
       "        'W', 'V', 'E', 'K', 'L', 'L', 'P', 'E', 'B', 'R', 'R', 'X', 'L',\n",
       "        'R', 'T', 'X', 'P', 'F', 'G', 'A', 'G', 'E', 'R', 'F', 'X', 'X',\n",
       "        'K', 'O', 'V', 'R', 'E', 'P', 'D', 'K', 'N', 'E', 'O', 'Y', 'Q',\n",
       "        'W', 'Y', 'Z', 'L', 'N', 'H', 'F', 'P', 'L', 'Q'], dtype='<U1'),\n",
       " 1.0)"
      ]
     },
     "execution_count": 221,
     "metadata": {},
     "output_type": "execute_result"
    }
   ],
   "source": [
    "scores = np.zeros((len(Valid_y), 26))\n",
    "scores_train = np.zeros((len(Train_y), 26))\n",
    "count = np.unique(Train_y, return_counts=True)[1]\n",
    "    \n",
    "for i in range(26):\n",
    "    for j in range(i + 1, 26):\n",
    "        inp_x = np.zeros((count[i] + count[j], Train_x.shape[1]))\n",
    "        inp_y = np.zeros(count[i] + count[j])\n",
    "        free_index = 0\n",
    "\n",
    "        for z in range(len(Train_y)):\n",
    "            if Train_y[z] == intToUpperCase(i) or Train_y[z] == intToUpperCase(j):\n",
    "                inp_x[free_index] = Train_x[z]\n",
    "\n",
    "                if Train_y[z] == intToUpperCase(i):\n",
    "                    inp_y[free_index] = 1 #i positive case\n",
    "                else:\n",
    "                    inp_y[free_index] = 0 #j negative case\n",
    "\n",
    "                free_index += 1\n",
    "\n",
    "        #classifer that can predict between i and j\n",
    "        W, b = trainPerceptronAlgorithm(inp_x, inp_y)\n",
    "        \n",
    "        #fill scores (prediction from Valid_x)\n",
    "        for idx, inp in enumerate(Valid_x):\n",
    "            class_picked = i if StepFunction(inp, W, b) == 1 else j\n",
    "            scores[idx][class_picked] +=1\n",
    "            \n",
    "scores = scores.argmax(1)\n",
    "scores = np.vectorize(intToUpperCase)(scores) #format int 0-25 from one vs rest to uppercase characters\n",
    "Predict_Y = scores\n",
    "Predict_Y, Valid_y, accuracy_score(Valid_y, Predict_y) #print test_y?"
   ]
  },
  {
   "cell_type": "code",
   "execution_count": null,
   "metadata": {},
   "outputs": [],
   "source": []
  }
 ],
 "metadata": {
  "kernelspec": {
   "display_name": "Python 3",
   "language": "python",
   "name": "python3"
  },
  "language_info": {
   "codemirror_mode": {
    "name": "ipython",
    "version": 3
   },
   "file_extension": ".py",
   "mimetype": "text/x-python",
   "name": "python",
   "nbconvert_exporter": "python",
   "pygments_lexer": "ipython3",
   "version": "3.7.6"
  }
 },
 "nbformat": 4,
 "nbformat_minor": 2
}
